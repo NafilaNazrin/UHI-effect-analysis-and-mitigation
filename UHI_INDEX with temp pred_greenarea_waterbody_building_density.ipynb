{
 "cells": [
  {
   "cell_type": "markdown",
   "id": "6dc1b690-b79e-4b60-be20-c21cac57ee62",
   "metadata": {},
   "source": [
    "# Current temp(based on latest 1 month) & Predicting future temperature "
   ]
  },
  {
   "cell_type": "code",
   "execution_count": 1,
   "id": "8ebcdd5c-b857-46e4-8110-8071191f3fb9",
   "metadata": {},
   "outputs": [
    {
     "name": "stderr",
     "output_type": "stream",
     "text": [
      "C:\\Users\\Nafila Nazrin\\venv\\Lib\\site-packages\\sklearn\\base.py:493: UserWarning: X does not have valid feature names, but RandomForestRegressor was fitted with feature names\n",
      "  warnings.warn(\n"
     ]
    },
    {
     "name": "stdout",
     "output_type": "stream",
     "text": [
      "Adyar.csv - Current Temperature: 83.70°F\n",
      "Adyar.csv - Predicted Future Temperature: 84.02°F\n",
      "Adyar.csv - Mean Squared Error (MSE): 0.37\n",
      "Adyar.csv - R-squared (R²): 0.97\n"
     ]
    },
    {
     "name": "stderr",
     "output_type": "stream",
     "text": [
      "C:\\Users\\Nafila Nazrin\\venv\\Lib\\site-packages\\sklearn\\base.py:493: UserWarning: X does not have valid feature names, but RandomForestRegressor was fitted with feature names\n",
      "  warnings.warn(\n"
     ]
    },
    {
     "name": "stdout",
     "output_type": "stream",
     "text": [
      "AnnaNagar.csv - Current Temperature: 84.00°F\n",
      "AnnaNagar.csv - Predicted Future Temperature: 84.35°F\n",
      "AnnaNagar.csv - Mean Squared Error (MSE): 0.36\n",
      "AnnaNagar.csv - R-squared (R²): 0.97\n"
     ]
    },
    {
     "name": "stderr",
     "output_type": "stream",
     "text": [
      "C:\\Users\\Nafila Nazrin\\venv\\Lib\\site-packages\\sklearn\\base.py:493: UserWarning: X does not have valid feature names, but RandomForestRegressor was fitted with feature names\n",
      "  warnings.warn(\n"
     ]
    },
    {
     "name": "stdout",
     "output_type": "stream",
     "text": [
      "Tondiarpet.csv - Current Temperature: 83.20°F\n",
      "Tondiarpet.csv - Predicted Future Temperature: 83.52°F\n",
      "Tondiarpet.csv - Mean Squared Error (MSE): 0.37\n",
      "Tondiarpet.csv - R-squared (R²): 0.97\n"
     ]
    },
    {
     "name": "stderr",
     "output_type": "stream",
     "text": [
      "C:\\Users\\Nafila Nazrin\\venv\\Lib\\site-packages\\sklearn\\base.py:493: UserWarning: X does not have valid feature names, but RandomForestRegressor was fitted with feature names\n",
      "  warnings.warn(\n"
     ]
    },
    {
     "name": "stdout",
     "output_type": "stream",
     "text": [
      "Royapuram.csv - Current Temperature: 83.70°F\n",
      "Royapuram.csv - Predicted Future Temperature: 84.13°F\n",
      "Royapuram.csv - Mean Squared Error (MSE): 0.34\n",
      "Royapuram.csv - R-squared (R²): 0.97\n"
     ]
    },
    {
     "name": "stderr",
     "output_type": "stream",
     "text": [
      "C:\\Users\\Nafila Nazrin\\venv\\Lib\\site-packages\\sklearn\\base.py:493: UserWarning: X does not have valid feature names, but RandomForestRegressor was fitted with feature names\n",
      "  warnings.warn(\n"
     ]
    },
    {
     "name": "stdout",
     "output_type": "stream",
     "text": [
      "Kodambakkam.csv - Current Temperature: 84.30°F\n",
      "Kodambakkam.csv - Predicted Future Temperature: 84.44°F\n",
      "Kodambakkam.csv - Mean Squared Error (MSE): 0.36\n",
      "Kodambakkam.csv - R-squared (R²): 0.97\n"
     ]
    },
    {
     "name": "stderr",
     "output_type": "stream",
     "text": [
      "C:\\Users\\Nafila Nazrin\\venv\\Lib\\site-packages\\sklearn\\base.py:493: UserWarning: X does not have valid feature names, but RandomForestRegressor was fitted with feature names\n",
      "  warnings.warn(\n"
     ]
    },
    {
     "name": "stdout",
     "output_type": "stream",
     "text": [
      "Alandur.csv - Current Temperature: 83.80°F\n",
      "Alandur.csv - Predicted Future Temperature: 84.00°F\n",
      "Alandur.csv - Mean Squared Error (MSE): 0.38\n",
      "Alandur.csv - R-squared (R²): 0.97\n"
     ]
    },
    {
     "name": "stderr",
     "output_type": "stream",
     "text": [
      "C:\\Users\\Nafila Nazrin\\venv\\Lib\\site-packages\\sklearn\\base.py:493: UserWarning: X does not have valid feature names, but RandomForestRegressor was fitted with feature names\n",
      "  warnings.warn(\n"
     ]
    },
    {
     "name": "stdout",
     "output_type": "stream",
     "text": [
      "Perungudi.csv - Current Temperature: 84.30°F\n",
      "Perungudi.csv - Predicted Future Temperature: 84.46°F\n",
      "Perungudi.csv - Mean Squared Error (MSE): 0.38\n",
      "Perungudi.csv - R-squared (R²): 0.97\n"
     ]
    },
    {
     "name": "stderr",
     "output_type": "stream",
     "text": [
      "C:\\Users\\Nafila Nazrin\\venv\\Lib\\site-packages\\sklearn\\base.py:493: UserWarning: X does not have valid feature names, but RandomForestRegressor was fitted with feature names\n",
      "  warnings.warn(\n"
     ]
    },
    {
     "name": "stdout",
     "output_type": "stream",
     "text": [
      "valasaravakkam.csv - Current Temperature: 84.30°F\n",
      "valasaravakkam.csv - Predicted Future Temperature: 84.44°F\n",
      "valasaravakkam.csv - Mean Squared Error (MSE): 0.39\n",
      "valasaravakkam.csv - R-squared (R²): 0.97\n"
     ]
    },
    {
     "name": "stderr",
     "output_type": "stream",
     "text": [
      "C:\\Users\\Nafila Nazrin\\venv\\Lib\\site-packages\\sklearn\\base.py:493: UserWarning: X does not have valid feature names, but RandomForestRegressor was fitted with feature names\n",
      "  warnings.warn(\n"
     ]
    },
    {
     "name": "stdout",
     "output_type": "stream",
     "text": [
      "Manali.csv - Current Temperature: 50.50°F\n",
      "Manali.csv - Predicted Future Temperature: 51.93°F\n",
      "Manali.csv - Mean Squared Error (MSE): 2.13\n",
      "Manali.csv - R-squared (R²): 0.99\n"
     ]
    },
    {
     "name": "stderr",
     "output_type": "stream",
     "text": [
      "C:\\Users\\Nafila Nazrin\\venv\\Lib\\site-packages\\sklearn\\base.py:493: UserWarning: X does not have valid feature names, but RandomForestRegressor was fitted with feature names\n",
      "  warnings.warn(\n"
     ]
    },
    {
     "name": "stdout",
     "output_type": "stream",
     "text": [
      "Teynampet.csv - Current Temperature: 83.70°F\n",
      "Teynampet.csv - Predicted Future Temperature: 84.09°F\n",
      "Teynampet.csv - Mean Squared Error (MSE): 0.36\n",
      "Teynampet.csv - R-squared (R²): 0.97\n"
     ]
    },
    {
     "name": "stderr",
     "output_type": "stream",
     "text": [
      "C:\\Users\\Nafila Nazrin\\venv\\Lib\\site-packages\\sklearn\\base.py:493: UserWarning: X does not have valid feature names, but RandomForestRegressor was fitted with feature names\n",
      "  warnings.warn(\n"
     ]
    },
    {
     "name": "stdout",
     "output_type": "stream",
     "text": [
      "Sholinganallur.csv - Current Temperature: 84.30°F\n",
      "Sholinganallur.csv - Predicted Future Temperature: 84.47°F\n",
      "Sholinganallur.csv - Mean Squared Error (MSE): 0.38\n",
      "Sholinganallur.csv - R-squared (R²): 0.97\n"
     ]
    },
    {
     "name": "stderr",
     "output_type": "stream",
     "text": [
      "C:\\Users\\Nafila Nazrin\\venv\\Lib\\site-packages\\sklearn\\base.py:493: UserWarning: X does not have valid feature names, but RandomForestRegressor was fitted with feature names\n",
      "  warnings.warn(\n"
     ]
    },
    {
     "name": "stdout",
     "output_type": "stream",
     "text": [
      "ThiruViKaNagar.csv - Current Temperature: 83.70°F\n",
      "ThiruViKaNagar.csv - Predicted Future Temperature: 84.04°F\n",
      "ThiruViKaNagar.csv - Mean Squared Error (MSE): 0.33\n",
      "ThiruViKaNagar.csv - R-squared (R²): 0.98\n"
     ]
    },
    {
     "name": "stderr",
     "output_type": "stream",
     "text": [
      "C:\\Users\\Nafila Nazrin\\venv\\Lib\\site-packages\\sklearn\\base.py:493: UserWarning: X does not have valid feature names, but RandomForestRegressor was fitted with feature names\n",
      "  warnings.warn(\n"
     ]
    },
    {
     "name": "stdout",
     "output_type": "stream",
     "text": [
      "Ambattur.csv - Current Temperature: 83.70°F\n",
      "Ambattur.csv - Predicted Future Temperature: 84.07°F\n",
      "Ambattur.csv - Mean Squared Error (MSE): 0.34\n",
      "Ambattur.csv - R-squared (R²): 0.97\n",
      "madhavaram.csv - Current Temperature: 83.70°F\n",
      "madhavaram.csv - Predicted Future Temperature: 84.10°F\n",
      "madhavaram.csv - Mean Squared Error (MSE): 0.35\n",
      "madhavaram.csv - R-squared (R²): 0.97\n",
      "All temperature data saved to temperature_predictions.csv\n"
     ]
    },
    {
     "name": "stderr",
     "output_type": "stream",
     "text": [
      "C:\\Users\\Nafila Nazrin\\venv\\Lib\\site-packages\\sklearn\\base.py:493: UserWarning: X does not have valid feature names, but RandomForestRegressor was fitted with feature names\n",
      "  warnings.warn(\n"
     ]
    }
   ],
   "source": [
    "import pandas as pd\n",
    "from sklearn.model_selection import train_test_split\n",
    "from sklearn.ensemble import RandomForestRegressor\n",
    "from sklearn.metrics import mean_squared_error, r2_score\n",
    "import joblib\n",
    "\n",
    "# List of files to process\n",
    "files = [\n",
    "    'Adyar.csv', 'AnnaNagar.csv', 'Tondiarpet.csv', 'Royapuram.csv', 'Kodambakkam.csv',\n",
    "    'Alandur.csv', 'Perungudi.csv', 'valasaravakkam.csv', 'Manali.csv', 'Teynampet.csv',\n",
    "    'Sholinganallur.csv', 'ThiruViKaNagar.csv', 'Ambattur.csv', 'madhavaram.csv'\n",
    "]\n",
    "\n",
    "# Initialize an empty list to store temperature data\n",
    "temperature_data = []\n",
    "\n",
    "# Function to get the 'temp' value from the last row of a file\n",
    "def get_last_temp(file):\n",
    "    # Load the dataset\n",
    "    df = pd.read_csv(file)\n",
    "    \n",
    "    # Get the 'temp' value from the last row\n",
    "    last_temp = df['temp'].iloc[-1]\n",
    "    \n",
    "    return last_temp\n",
    "\n",
    "# Function to process a file, train model, and predict future temperature\n",
    "def process_file(file_path):\n",
    "    try:\n",
    "        # Load the dataset\n",
    "        data = pd.read_csv(file_path)\n",
    "        \n",
    "        # Ensure required columns are present\n",
    "        required_columns = ['solarradiation', 'humidity', 'dew', 'tempmax', 'tempmin', 'cloudcover']\n",
    "        if not all(col in data.columns for col in required_columns):\n",
    "            raise ValueError(\"Some required columns are missing in the data.\")\n",
    "        \n",
    "        # Handle small datasets\n",
    "        if len(data) < 2:\n",
    "            print(f\"Not enough data in {file_path} after processing. Using default prediction.\")\n",
    "            default_temp = data['temp'].mean() if not data.empty else 'N/A'\n",
    "            return {\n",
    "                'File': file_path,\n",
    "                'Current Temperature (°F)': default_temp,\n",
    "                'Future Temperature (°F)': 'N/A'\n",
    "            }\n",
    "        \n",
    "        # Prepare features and target variable\n",
    "        X = data[required_columns]\n",
    "        y = data['temp']\n",
    "        \n",
    "        # Split the data into training and testing sets\n",
    "        X_train, X_test, y_train, y_test = train_test_split(X, y, test_size=0.3, random_state=42)\n",
    "        \n",
    "        # Initialize and train the Random Forest model\n",
    "        rf_model = RandomForestRegressor(n_estimators=100, random_state=42)\n",
    "        rf_model.fit(X_train, y_train)\n",
    "        \n",
    "        # Save the trained model to a file\n",
    "        joblib.dump(rf_model, 'random_forest_temp_prediction_model.pkl')\n",
    "        \n",
    "        # Predict the temperature based on the latest available data\n",
    "        latest_data = data.iloc[-1]  # Take the latest row\n",
    "        latest_features = latest_data[required_columns]\n",
    "        latest_features = [latest_features.values]  # Convert to 2D array for prediction\n",
    "        \n",
    "        # Make a single prediction for the latest data\n",
    "        predicted_temp = rf_model.predict(latest_features)\n",
    "        \n",
    "        # Output results\n",
    "        print(f'{file_path} - Current Temperature: {latest_data[\"temp\"]:.2f}°F')\n",
    "        print(f'{file_path} - Predicted Future Temperature: {predicted_temp[0]:.2f}°F')\n",
    "         \n",
    "        y_pred_test = rf_model.predict(X_test)\n",
    "        mse = mean_squared_error(y_test, y_pred_test)\n",
    "        r2 = r2_score(y_test, y_pred_test)\n",
    "\n",
    "        print(f'{file_path} - Mean Squared Error (MSE): {mse:.2f}')\n",
    "        print(f'{file_path} - R-squared (R²): {r2:.2f}')\n",
    "        \n",
    "        return {\n",
    "            'Area': file_path.split('.')[0],\n",
    "            'Current Temperature (°F)': latest_data['temp'],\n",
    "            'Future Temperature (°F)': predicted_temp[0]\n",
    "        }\n",
    "    \n",
    "    except Exception as e:\n",
    "        print(f\"An error occurred with file {file_path}: {e}\")\n",
    "        return {\n",
    "            'Area': file_path.split('.')[0],\n",
    "            'Current Temperature (°F)': 'Error',\n",
    "            'Future Temperature (°F)': 'Error'\n",
    "        }\n",
    "\n",
    "# Process each file and collect results\n",
    "results = []\n",
    "for file in files:\n",
    "    result = process_file(file)\n",
    "    results.append(result)\n",
    "\n",
    "# Create a DataFrame from the collected data\n",
    "results_df = pd.DataFrame(results)\n",
    "\n",
    "# Save the DataFrame to a single CSV file\n",
    "results_df.to_csv('temperature_predictions.csv', index=False)\n",
    "print('All temperature data saved to temperature_predictions.csv')\n"
   ]
  },
  {
   "cell_type": "markdown",
   "id": "9babf554-dfb0-4814-a5c6-08be047130b0",
   "metadata": {},
   "source": [
    "# Green area, Water bodies and Building density percentage for valasara, manali, Teynampet, sholin, thiru v ka, ambattur and madhavaram"
   ]
  },
  {
   "cell_type": "code",
   "execution_count": 2,
   "id": "fe58cca6-be18-4303-badd-c20802b8a146",
   "metadata": {},
   "outputs": [
    {
     "name": "stdout",
     "output_type": "stream",
     "text": [
      "Analyzing Valasaravakkam...\n",
      "Fetching data within bbox: [80.193, 13.0, 80.243, 13.05]\n"
     ]
    },
    {
     "name": "stderr",
     "output_type": "stream",
     "text": [
      "C:\\Users\\Nafila Nazrin\\AppData\\Local\\Temp\\ipykernel_21248\\1272364498.py:51: UserWarning: Geometry is in a geographic CRS. Results from 'area' are likely incorrect. Use 'GeoSeries.to_crs()' to re-project geometries to a projected CRS before this operation.\n",
      "\n",
      "  water_area = water_gdf.area.sum() if not water_gdf.empty else 0\n",
      "C:\\Users\\Nafila Nazrin\\AppData\\Local\\Temp\\ipykernel_21248\\1272364498.py:52: UserWarning: Geometry is in a geographic CRS. Results from 'area' are likely incorrect. Use 'GeoSeries.to_crs()' to re-project geometries to a projected CRS before this operation.\n",
      "\n",
      "  green_area = green_gdf.area.sum() if not green_gdf.empty else 0\n",
      "C:\\Users\\Nafila Nazrin\\AppData\\Local\\Temp\\ipykernel_21248\\1272364498.py:53: UserWarning: Geometry is in a geographic CRS. Results from 'area' are likely incorrect. Use 'GeoSeries.to_crs()' to re-project geometries to a projected CRS before this operation.\n",
      "\n",
      "  building_area = buildings_gdf.area.sum() if not buildings_gdf.empty else 0\n"
     ]
    },
    {
     "name": "stdout",
     "output_type": "stream",
     "text": [
      "Valasaravakkam:\n",
      "  Water Bodies Percentage: 21.37%\n",
      "  Green Area Percentage: 23.34%\n",
      "  Building Density Percentage: 55.33%\n",
      "\n",
      "Analyzing Manali...\n",
      "Fetching data within bbox: [80.2, 13.12, 80.24, 13.16]\n"
     ]
    },
    {
     "name": "stderr",
     "output_type": "stream",
     "text": [
      "C:\\Users\\Nafila Nazrin\\AppData\\Local\\Temp\\ipykernel_21248\\1272364498.py:51: UserWarning: Geometry is in a geographic CRS. Results from 'area' are likely incorrect. Use 'GeoSeries.to_crs()' to re-project geometries to a projected CRS before this operation.\n",
      "\n",
      "  water_area = water_gdf.area.sum() if not water_gdf.empty else 0\n",
      "C:\\Users\\Nafila Nazrin\\AppData\\Local\\Temp\\ipykernel_21248\\1272364498.py:52: UserWarning: Geometry is in a geographic CRS. Results from 'area' are likely incorrect. Use 'GeoSeries.to_crs()' to re-project geometries to a projected CRS before this operation.\n",
      "\n",
      "  green_area = green_gdf.area.sum() if not green_gdf.empty else 0\n",
      "C:\\Users\\Nafila Nazrin\\AppData\\Local\\Temp\\ipykernel_21248\\1272364498.py:53: UserWarning: Geometry is in a geographic CRS. Results from 'area' are likely incorrect. Use 'GeoSeries.to_crs()' to re-project geometries to a projected CRS before this operation.\n",
      "\n",
      "  building_area = buildings_gdf.area.sum() if not buildings_gdf.empty else 0\n"
     ]
    },
    {
     "name": "stdout",
     "output_type": "stream",
     "text": [
      "Manali:\n",
      "  Water Bodies Percentage: 32.75%\n",
      "  Green Area Percentage: 1.28%\n",
      "  Building Density Percentage: 66.00%\n",
      "\n",
      "Analyzing Teynampet...\n",
      "Fetching data within bbox: [80.235, 13.055, 80.265, 13.085]\n"
     ]
    },
    {
     "name": "stderr",
     "output_type": "stream",
     "text": [
      "C:\\Users\\Nafila Nazrin\\AppData\\Local\\Temp\\ipykernel_21248\\1272364498.py:51: UserWarning: Geometry is in a geographic CRS. Results from 'area' are likely incorrect. Use 'GeoSeries.to_crs()' to re-project geometries to a projected CRS before this operation.\n",
      "\n",
      "  water_area = water_gdf.area.sum() if not water_gdf.empty else 0\n",
      "C:\\Users\\Nafila Nazrin\\AppData\\Local\\Temp\\ipykernel_21248\\1272364498.py:52: UserWarning: Geometry is in a geographic CRS. Results from 'area' are likely incorrect. Use 'GeoSeries.to_crs()' to re-project geometries to a projected CRS before this operation.\n",
      "\n",
      "  green_area = green_gdf.area.sum() if not green_gdf.empty else 0\n",
      "C:\\Users\\Nafila Nazrin\\AppData\\Local\\Temp\\ipykernel_21248\\1272364498.py:53: UserWarning: Geometry is in a geographic CRS. Results from 'area' are likely incorrect. Use 'GeoSeries.to_crs()' to re-project geometries to a projected CRS before this operation.\n",
      "\n",
      "  building_area = buildings_gdf.area.sum() if not buildings_gdf.empty else 0\n"
     ]
    },
    {
     "name": "stdout",
     "output_type": "stream",
     "text": [
      "Teynampet:\n",
      "  Water Bodies Percentage: 31.88%\n",
      "  Green Area Percentage: 0.02%\n",
      "  Building Density Percentage: 68.41%\n",
      "\n",
      "Analyzing Sholinganallur...\n",
      "Fetching data within bbox: [80.2079666627, 12.8521343241, 80.2634552773, 12.9587060909]\n"
     ]
    },
    {
     "name": "stderr",
     "output_type": "stream",
     "text": [
      "C:\\Users\\Nafila Nazrin\\AppData\\Local\\Temp\\ipykernel_21248\\1272364498.py:51: UserWarning: Geometry is in a geographic CRS. Results from 'area' are likely incorrect. Use 'GeoSeries.to_crs()' to re-project geometries to a projected CRS before this operation.\n",
      "\n",
      "  water_area = water_gdf.area.sum() if not water_gdf.empty else 0\n",
      "C:\\Users\\Nafila Nazrin\\AppData\\Local\\Temp\\ipykernel_21248\\1272364498.py:52: UserWarning: Geometry is in a geographic CRS. Results from 'area' are likely incorrect. Use 'GeoSeries.to_crs()' to re-project geometries to a projected CRS before this operation.\n",
      "\n",
      "  green_area = green_gdf.area.sum() if not green_gdf.empty else 0\n",
      "C:\\Users\\Nafila Nazrin\\AppData\\Local\\Temp\\ipykernel_21248\\1272364498.py:53: UserWarning: Geometry is in a geographic CRS. Results from 'area' are likely incorrect. Use 'GeoSeries.to_crs()' to re-project geometries to a projected CRS before this operation.\n",
      "\n",
      "  building_area = buildings_gdf.area.sum() if not buildings_gdf.empty else 0\n"
     ]
    },
    {
     "name": "stdout",
     "output_type": "stream",
     "text": [
      "Sholinganallur:\n",
      "  Water Bodies Percentage: 63.03%\n",
      "  Green Area Percentage: 0.01%\n",
      "  Building Density Percentage: 37.27%\n",
      "\n",
      "Analyzing Thiru. Vi. Ka. Nagar...\n",
      "Fetching data within bbox: [80.265, 13.065, 80.295, 13.095]\n"
     ]
    },
    {
     "name": "stderr",
     "output_type": "stream",
     "text": [
      "C:\\Users\\Nafila Nazrin\\AppData\\Local\\Temp\\ipykernel_21248\\1272364498.py:51: UserWarning: Geometry is in a geographic CRS. Results from 'area' are likely incorrect. Use 'GeoSeries.to_crs()' to re-project geometries to a projected CRS before this operation.\n",
      "\n",
      "  water_area = water_gdf.area.sum() if not water_gdf.empty else 0\n",
      "C:\\Users\\Nafila Nazrin\\AppData\\Local\\Temp\\ipykernel_21248\\1272364498.py:52: UserWarning: Geometry is in a geographic CRS. Results from 'area' are likely incorrect. Use 'GeoSeries.to_crs()' to re-project geometries to a projected CRS before this operation.\n",
      "\n",
      "  green_area = green_gdf.area.sum() if not green_gdf.empty else 0\n",
      "C:\\Users\\Nafila Nazrin\\AppData\\Local\\Temp\\ipykernel_21248\\1272364498.py:53: UserWarning: Geometry is in a geographic CRS. Results from 'area' are likely incorrect. Use 'GeoSeries.to_crs()' to re-project geometries to a projected CRS before this operation.\n",
      "\n",
      "  building_area = buildings_gdf.area.sum() if not buildings_gdf.empty else 0\n"
     ]
    },
    {
     "name": "stdout",
     "output_type": "stream",
     "text": [
      "Thiru. Vi. Ka. Nagar:\n",
      "  Water Bodies Percentage: 40.15%\n",
      "  Green Area Percentage: 0.45%\n",
      "  Building Density Percentage: 59.48%\n",
      "\n",
      "Analyzing Ambattur...\n",
      "Fetching data within bbox: [80.185, 13.105, 80.215, 13.135]\n"
     ]
    },
    {
     "name": "stderr",
     "output_type": "stream",
     "text": [
      "C:\\Users\\Nafila Nazrin\\AppData\\Local\\Temp\\ipykernel_21248\\1272364498.py:51: UserWarning: Geometry is in a geographic CRS. Results from 'area' are likely incorrect. Use 'GeoSeries.to_crs()' to re-project geometries to a projected CRS before this operation.\n",
      "\n",
      "  water_area = water_gdf.area.sum() if not water_gdf.empty else 0\n",
      "C:\\Users\\Nafila Nazrin\\AppData\\Local\\Temp\\ipykernel_21248\\1272364498.py:52: UserWarning: Geometry is in a geographic CRS. Results from 'area' are likely incorrect. Use 'GeoSeries.to_crs()' to re-project geometries to a projected CRS before this operation.\n",
      "\n",
      "  green_area = green_gdf.area.sum() if not green_gdf.empty else 0\n",
      "C:\\Users\\Nafila Nazrin\\AppData\\Local\\Temp\\ipykernel_21248\\1272364498.py:53: UserWarning: Geometry is in a geographic CRS. Results from 'area' are likely incorrect. Use 'GeoSeries.to_crs()' to re-project geometries to a projected CRS before this operation.\n",
      "\n",
      "  building_area = buildings_gdf.area.sum() if not buildings_gdf.empty else 0\n"
     ]
    },
    {
     "name": "stdout",
     "output_type": "stream",
     "text": [
      "Ambattur:\n",
      "  Water Bodies Percentage: 64.67%\n",
      "  Green Area Percentage: 1.27%\n",
      "  Building Density Percentage: 34.12%\n",
      "\n",
      "Analyzing Madhavaram...\n",
      "Fetching data within bbox: [80.237, 13.13, 80.267, 13.16]\n",
      "Madhavaram:\n",
      "  Water Bodies Percentage: 61.34%\n",
      "  Green Area Percentage: 1.55%\n",
      "  Building Density Percentage: 37.11%\n",
      "\n"
     ]
    },
    {
     "name": "stderr",
     "output_type": "stream",
     "text": [
      "C:\\Users\\Nafila Nazrin\\AppData\\Local\\Temp\\ipykernel_21248\\1272364498.py:51: UserWarning: Geometry is in a geographic CRS. Results from 'area' are likely incorrect. Use 'GeoSeries.to_crs()' to re-project geometries to a projected CRS before this operation.\n",
      "\n",
      "  water_area = water_gdf.area.sum() if not water_gdf.empty else 0\n",
      "C:\\Users\\Nafila Nazrin\\AppData\\Local\\Temp\\ipykernel_21248\\1272364498.py:52: UserWarning: Geometry is in a geographic CRS. Results from 'area' are likely incorrect. Use 'GeoSeries.to_crs()' to re-project geometries to a projected CRS before this operation.\n",
      "\n",
      "  green_area = green_gdf.area.sum() if not green_gdf.empty else 0\n",
      "C:\\Users\\Nafila Nazrin\\AppData\\Local\\Temp\\ipykernel_21248\\1272364498.py:53: UserWarning: Geometry is in a geographic CRS. Results from 'area' are likely incorrect. Use 'GeoSeries.to_crs()' to re-project geometries to a projected CRS before this operation.\n",
      "\n",
      "  building_area = buildings_gdf.area.sum() if not buildings_gdf.empty else 0\n"
     ]
    }
   ],
   "source": [
    "import osmnx as ox\n",
    "import geopandas as gpd\n",
    "import pandas as pd\n",
    "from shapely.geometry import box\n",
    "\n",
    "def fetch_data_from_bbox(bbox):\n",
    "    try:\n",
    "        # Convert bbox to a Polygon using shapely\n",
    "        polygon = box(*bbox)\n",
    "        \n",
    "        # Debug print to verify bbox and polygon\n",
    "        print(f\"Fetching data within bbox: {bbox}\")\n",
    "        \n",
    "        # Fetch data within the bounding box\n",
    "        water_gdf = ox.features_from_polygon(polygon, tags={'natural': 'water'})\n",
    "        green_gdf = ox.features_from_polygon(polygon, tags={'landuse': ['park', 'forest'], 'natural': ['wood']})\n",
    "        buildings_gdf = ox.features_from_polygon(polygon, tags={'building': True})\n",
    "        \n",
    "        return water_gdf, green_gdf, buildings_gdf\n",
    "    except Exception as e:\n",
    "        print(f\"Error fetching data from bbox: {e}\")\n",
    "        return gpd.GeoDataFrame(), gpd.GeoDataFrame(), gpd.GeoDataFrame()\n",
    "\n",
    "def analyze_data(zone_name, bbox):\n",
    "    print(f\"Analyzing {zone_name}...\")\n",
    "    \n",
    "    try:\n",
    "        water_gdf, green_gdf, buildings_gdf = fetch_data_from_bbox(bbox)\n",
    "\n",
    "        # Handle cases where no data is returned\n",
    "        if water_gdf.empty and green_gdf.empty and buildings_gdf.empty:\n",
    "            print(f\"No data found for {zone_name}.\")\n",
    "            print(f\"Water Bodies Percentage in {zone_name}: 0.00%\")\n",
    "            print(f\"Green Area Percentage in {zone_name}: 0.00%\")\n",
    "            print(f\"Building Density Percentage in {zone_name}: 0.00%\")\n",
    "            return\n",
    "\n",
    "        # Combine all feature GeoDataFrames for total area calculation\n",
    "        combined_gdf = gpd.GeoDataFrame(pd.concat([water_gdf, green_gdf, buildings_gdf], ignore_index=True))\n",
    "        if combined_gdf.empty:\n",
    "            print(f\"Combined data is empty for {zone_name}.\")\n",
    "            print(f\"Water Bodies Percentage in {zone_name}: 0.00%\")\n",
    "            print(f\"Green Area Percentage in {zone_name}: 0.00%\")\n",
    "            print(f\"Building Density Percentage in {zone_name}: 0.00%\")\n",
    "            return\n",
    "\n",
    "        # Calculate total area of the zone\n",
    "        total_area = combined_gdf.unary_union.area\n",
    "\n",
    "        # Calculate areas for each feature\n",
    "        water_area = water_gdf.area.sum() if not water_gdf.empty else 0\n",
    "        green_area = green_gdf.area.sum() if not green_gdf.empty else 0\n",
    "        building_area = buildings_gdf.area.sum() if not buildings_gdf.empty else 0\n",
    "\n",
    "        # Calculate percentages\n",
    "        water_percentage = (water_area / total_area) * 100 if total_area > 0 else 0\n",
    "        green_percentage = (green_area / total_area) * 100 if total_area > 0 else 0\n",
    "        building_percentage = (building_area / total_area) * 100 if total_area > 0 else 0\n",
    "\n",
    "        # Display percentage data\n",
    "        print(f\"{zone_name}:\")\n",
    "        print(f\"  Water Bodies Percentage: {water_percentage:.2f}%\")\n",
    "        print(f\"  Green Area Percentage: {green_percentage:.2f}%\")\n",
    "        print(f\"  Building Density Percentage: {building_percentage:.2f}%\")\n",
    "        print()\n",
    "\n",
    "    except Exception as e:\n",
    "        print(f\"Error analyzing {zone_name}: {e}\")\n",
    "        print(f\"Water Bodies Percentage in {zone_name}: 0.00%\")\n",
    "        print(f\"Green Area Percentage in {zone_name}: 0.00%\")\n",
    "        print(f\"Building Density Percentage in {zone_name}: 0.00%\")\n",
    "\n",
    "# Define bounding boxes for the remaining zones\n",
    "zones_bboxes = {\n",
    "    \"Valasaravakkam\": [80.193, 13.0, 80.243, 13.05],\n",
    "    \"Manali\": [80.200, 13.120, 80.240, 13.160],         \n",
    "    \"Teynampet\": [80.235, 13.055, 80.265, 13.085],\n",
    "    \"Sholinganallur\": [80.2079666627, 12.8521343241, 80.2634552773, 12.9587060909],  \n",
    "    \"Thiru. Vi. Ka. Nagar\": [80.265, 13.065, 80.295, 13.095],\n",
    "    \"Ambattur\": [80.185, 13.105, 80.215, 13.135],\n",
    "    \"Madhavaram\": [80.237, 13.130, 80.267, 13.160]\n",
    "}\n",
    "\n",
    "# Analyze each zone with the defined bounding boxes\n",
    "for zone_name, bbox in zones_bboxes.items():\n",
    "    analyze_data(zone_name, bbox)\n"
   ]
  },
  {
   "cell_type": "markdown",
   "id": "6d5fabcc-af98-48ec-bcc6-57a64be5ea11",
   "metadata": {},
   "source": [
    "# Green area, Water bodies and Building density percentage for Adyar, anna nag, tondiar, roya, kodam, alandur, perungudi"
   ]
  },
  {
   "cell_type": "code",
   "execution_count": 3,
   "id": "6e8a66c7-b527-4607-8551-e6b807bd2029",
   "metadata": {},
   "outputs": [
    {
     "name": "stdout",
     "output_type": "stream",
     "text": [
      "Analyzing Adyar...\n"
     ]
    },
    {
     "name": "stderr",
     "output_type": "stream",
     "text": [
      "C:\\Users\\Nafila Nazrin\\AppData\\Local\\Temp\\ipykernel_21248\\641981345.py:40: UserWarning: Geometry is in a geographic CRS. Results from 'area' are likely incorrect. Use 'GeoSeries.to_crs()' to re-project geometries to a projected CRS before this operation.\n",
      "\n",
      "  water_area = water_gdf.area.sum() if not water_gdf.empty else 0\n",
      "C:\\Users\\Nafila Nazrin\\AppData\\Local\\Temp\\ipykernel_21248\\641981345.py:41: UserWarning: Geometry is in a geographic CRS. Results from 'area' are likely incorrect. Use 'GeoSeries.to_crs()' to re-project geometries to a projected CRS before this operation.\n",
      "\n",
      "  green_area = green_gdf.area.sum() if not green_gdf.empty else 0\n",
      "C:\\Users\\Nafila Nazrin\\AppData\\Local\\Temp\\ipykernel_21248\\641981345.py:42: UserWarning: Geometry is in a geographic CRS. Results from 'area' are likely incorrect. Use 'GeoSeries.to_crs()' to re-project geometries to a projected CRS before this operation.\n",
      "\n",
      "  building_area = buildings_gdf.area.sum() if not buildings_gdf.empty else 0\n"
     ]
    },
    {
     "name": "stdout",
     "output_type": "stream",
     "text": [
      "Adyar:\n",
      "  Water Bodies Percentage: 23.40%\n",
      "  Green Area Percentage: 29.46%\n",
      "  Building Density Percentage: 47.42%\n",
      "\n",
      "Analyzing Anna Nagar...\n"
     ]
    },
    {
     "name": "stderr",
     "output_type": "stream",
     "text": [
      "C:\\Users\\Nafila Nazrin\\AppData\\Local\\Temp\\ipykernel_21248\\641981345.py:40: UserWarning: Geometry is in a geographic CRS. Results from 'area' are likely incorrect. Use 'GeoSeries.to_crs()' to re-project geometries to a projected CRS before this operation.\n",
      "\n",
      "  water_area = water_gdf.area.sum() if not water_gdf.empty else 0\n",
      "C:\\Users\\Nafila Nazrin\\AppData\\Local\\Temp\\ipykernel_21248\\641981345.py:41: UserWarning: Geometry is in a geographic CRS. Results from 'area' are likely incorrect. Use 'GeoSeries.to_crs()' to re-project geometries to a projected CRS before this operation.\n",
      "\n",
      "  green_area = green_gdf.area.sum() if not green_gdf.empty else 0\n",
      "C:\\Users\\Nafila Nazrin\\AppData\\Local\\Temp\\ipykernel_21248\\641981345.py:42: UserWarning: Geometry is in a geographic CRS. Results from 'area' are likely incorrect. Use 'GeoSeries.to_crs()' to re-project geometries to a projected CRS before this operation.\n",
      "\n",
      "  building_area = buildings_gdf.area.sum() if not buildings_gdf.empty else 0\n"
     ]
    },
    {
     "name": "stdout",
     "output_type": "stream",
     "text": [
      "Anna Nagar:\n",
      "  Water Bodies Percentage: 19.41%\n",
      "  Green Area Percentage: 0.82%\n",
      "  Building Density Percentage: 79.80%\n",
      "\n",
      "Analyzing Tondiarpet...\n"
     ]
    },
    {
     "name": "stderr",
     "output_type": "stream",
     "text": [
      "C:\\Users\\Nafila Nazrin\\AppData\\Local\\Temp\\ipykernel_21248\\641981345.py:40: UserWarning: Geometry is in a geographic CRS. Results from 'area' are likely incorrect. Use 'GeoSeries.to_crs()' to re-project geometries to a projected CRS before this operation.\n",
      "\n",
      "  water_area = water_gdf.area.sum() if not water_gdf.empty else 0\n",
      "C:\\Users\\Nafila Nazrin\\AppData\\Local\\Temp\\ipykernel_21248\\641981345.py:41: UserWarning: Geometry is in a geographic CRS. Results from 'area' are likely incorrect. Use 'GeoSeries.to_crs()' to re-project geometries to a projected CRS before this operation.\n",
      "\n",
      "  green_area = green_gdf.area.sum() if not green_gdf.empty else 0\n",
      "C:\\Users\\Nafila Nazrin\\AppData\\Local\\Temp\\ipykernel_21248\\641981345.py:42: UserWarning: Geometry is in a geographic CRS. Results from 'area' are likely incorrect. Use 'GeoSeries.to_crs()' to re-project geometries to a projected CRS before this operation.\n",
      "\n",
      "  building_area = buildings_gdf.area.sum() if not buildings_gdf.empty else 0\n"
     ]
    },
    {
     "name": "stdout",
     "output_type": "stream",
     "text": [
      "Tondiarpet:\n",
      "  Water Bodies Percentage: 19.17%\n",
      "  Green Area Percentage: 0.14%\n",
      "  Building Density Percentage: 80.76%\n",
      "\n",
      "Analyzing Zone 5 Royapuram...\n"
     ]
    },
    {
     "name": "stderr",
     "output_type": "stream",
     "text": [
      "C:\\Users\\Nafila Nazrin\\AppData\\Local\\Temp\\ipykernel_21248\\641981345.py:40: UserWarning: Geometry is in a geographic CRS. Results from 'area' are likely incorrect. Use 'GeoSeries.to_crs()' to re-project geometries to a projected CRS before this operation.\n",
      "\n",
      "  water_area = water_gdf.area.sum() if not water_gdf.empty else 0\n",
      "C:\\Users\\Nafila Nazrin\\AppData\\Local\\Temp\\ipykernel_21248\\641981345.py:41: UserWarning: Geometry is in a geographic CRS. Results from 'area' are likely incorrect. Use 'GeoSeries.to_crs()' to re-project geometries to a projected CRS before this operation.\n",
      "\n",
      "  green_area = green_gdf.area.sum() if not green_gdf.empty else 0\n",
      "C:\\Users\\Nafila Nazrin\\AppData\\Local\\Temp\\ipykernel_21248\\641981345.py:42: UserWarning: Geometry is in a geographic CRS. Results from 'area' are likely incorrect. Use 'GeoSeries.to_crs()' to re-project geometries to a projected CRS before this operation.\n",
      "\n",
      "  building_area = buildings_gdf.area.sum() if not buildings_gdf.empty else 0\n"
     ]
    },
    {
     "name": "stdout",
     "output_type": "stream",
     "text": [
      "Zone 5 Royapuram:\n",
      "  Water Bodies Percentage: 23.85%\n",
      "  Green Area Percentage: 0.28%\n",
      "  Building Density Percentage: 76.08%\n",
      "\n",
      "Analyzing Kodambakkam...\n"
     ]
    },
    {
     "name": "stderr",
     "output_type": "stream",
     "text": [
      "C:\\Users\\Nafila Nazrin\\AppData\\Local\\Temp\\ipykernel_21248\\641981345.py:40: UserWarning: Geometry is in a geographic CRS. Results from 'area' are likely incorrect. Use 'GeoSeries.to_crs()' to re-project geometries to a projected CRS before this operation.\n",
      "\n",
      "  water_area = water_gdf.area.sum() if not water_gdf.empty else 0\n",
      "C:\\Users\\Nafila Nazrin\\AppData\\Local\\Temp\\ipykernel_21248\\641981345.py:41: UserWarning: Geometry is in a geographic CRS. Results from 'area' are likely incorrect. Use 'GeoSeries.to_crs()' to re-project geometries to a projected CRS before this operation.\n",
      "\n",
      "  green_area = green_gdf.area.sum() if not green_gdf.empty else 0\n",
      "C:\\Users\\Nafila Nazrin\\AppData\\Local\\Temp\\ipykernel_21248\\641981345.py:42: UserWarning: Geometry is in a geographic CRS. Results from 'area' are likely incorrect. Use 'GeoSeries.to_crs()' to re-project geometries to a projected CRS before this operation.\n",
      "\n",
      "  building_area = buildings_gdf.area.sum() if not buildings_gdf.empty else 0\n"
     ]
    },
    {
     "name": "stdout",
     "output_type": "stream",
     "text": [
      "Kodambakkam:\n",
      "  Water Bodies Percentage: 35.83%\n",
      "  Green Area Percentage: 0.13%\n",
      "  Building Density Percentage: 64.09%\n",
      "\n",
      "Analyzing Alandur...\n"
     ]
    },
    {
     "name": "stderr",
     "output_type": "stream",
     "text": [
      "C:\\Users\\Nafila Nazrin\\AppData\\Local\\Temp\\ipykernel_21248\\641981345.py:40: UserWarning: Geometry is in a geographic CRS. Results from 'area' are likely incorrect. Use 'GeoSeries.to_crs()' to re-project geometries to a projected CRS before this operation.\n",
      "\n",
      "  water_area = water_gdf.area.sum() if not water_gdf.empty else 0\n",
      "C:\\Users\\Nafila Nazrin\\AppData\\Local\\Temp\\ipykernel_21248\\641981345.py:41: UserWarning: Geometry is in a geographic CRS. Results from 'area' are likely incorrect. Use 'GeoSeries.to_crs()' to re-project geometries to a projected CRS before this operation.\n",
      "\n",
      "  green_area = green_gdf.area.sum() if not green_gdf.empty else 0\n",
      "C:\\Users\\Nafila Nazrin\\AppData\\Local\\Temp\\ipykernel_21248\\641981345.py:42: UserWarning: Geometry is in a geographic CRS. Results from 'area' are likely incorrect. Use 'GeoSeries.to_crs()' to re-project geometries to a projected CRS before this operation.\n",
      "\n",
      "  building_area = buildings_gdf.area.sum() if not buildings_gdf.empty else 0\n"
     ]
    },
    {
     "name": "stdout",
     "output_type": "stream",
     "text": [
      "Alandur:\n",
      "  Water Bodies Percentage: 39.04%\n",
      "  Green Area Percentage: 1.08%\n",
      "  Building Density Percentage: 59.89%\n",
      "\n",
      "Analyzing Perungudi...\n",
      "Perungudi:\n",
      "  Water Bodies Percentage: 48.71%\n",
      "  Green Area Percentage: 0.01%\n",
      "  Building Density Percentage: 51.35%\n",
      "\n"
     ]
    },
    {
     "name": "stderr",
     "output_type": "stream",
     "text": [
      "C:\\Users\\Nafila Nazrin\\AppData\\Local\\Temp\\ipykernel_21248\\641981345.py:40: UserWarning: Geometry is in a geographic CRS. Results from 'area' are likely incorrect. Use 'GeoSeries.to_crs()' to re-project geometries to a projected CRS before this operation.\n",
      "\n",
      "  water_area = water_gdf.area.sum() if not water_gdf.empty else 0\n",
      "C:\\Users\\Nafila Nazrin\\AppData\\Local\\Temp\\ipykernel_21248\\641981345.py:41: UserWarning: Geometry is in a geographic CRS. Results from 'area' are likely incorrect. Use 'GeoSeries.to_crs()' to re-project geometries to a projected CRS before this operation.\n",
      "\n",
      "  green_area = green_gdf.area.sum() if not green_gdf.empty else 0\n",
      "C:\\Users\\Nafila Nazrin\\AppData\\Local\\Temp\\ipykernel_21248\\641981345.py:42: UserWarning: Geometry is in a geographic CRS. Results from 'area' are likely incorrect. Use 'GeoSeries.to_crs()' to re-project geometries to a projected CRS before this operation.\n",
      "\n",
      "  building_area = buildings_gdf.area.sum() if not buildings_gdf.empty else 0\n"
     ]
    }
   ],
   "source": [
    "import osmnx as ox\n",
    "import geopandas as gpd\n",
    "import pandas as pd\n",
    "\n",
    "# Define zones with broader or alternative queries\n",
    "zones = {\n",
    "    \"Adyar\": \"Adyar, Chennai, India\",\n",
    "    \"Anna Nagar\": \"Anna Nagar, Chennai, India\",\n",
    "    \"Tondiarpet\": \"Tondiarpet, Chennai, India\",\n",
    "    \"Zone 5 Royapuram\": \"Zone 5 Royapuram, Chennai, India\",\n",
    "    \"Kodambakkam\": \"Kodambakkam, Chennai, India\",\n",
    "    \"Alandur\": \"Alandur, Chennai, India\",\n",
    "    \"Perungudi\": \"Perungudi, Chennai, India\"\n",
    "}\n",
    "\n",
    "def analyze_zone(zone_name, place_query):\n",
    "    print(f\"Analyzing {zone_name}...\")\n",
    "    \n",
    "    try:\n",
    "        # Fetch data using the updated OSMnx API\n",
    "        water_gdf = ox.features_from_place(place_query, tags={'water': True})\n",
    "        green_gdf = ox.features_from_place(place_query, tags={'landuse': ['park', 'forest'], 'natural': ['wood']})\n",
    "        buildings_gdf = ox.features_from_place(place_query, tags={'building': True})\n",
    "\n",
    "        # Handle cases where no data is returned\n",
    "        if water_gdf.empty and green_gdf.empty and buildings_gdf.empty:\n",
    "            print(f\"No data found for {zone_name}.\")\n",
    "            return\n",
    "\n",
    "        # Combine all feature GeoDataFrames for total area calculation\n",
    "        combined_gdf = gpd.GeoDataFrame(pd.concat([water_gdf, green_gdf, buildings_gdf], ignore_index=True))\n",
    "        if combined_gdf.empty:\n",
    "            print(f\"Combined data is empty for {zone_name}.\")\n",
    "            return\n",
    "\n",
    "        # Calculate total area of the zone\n",
    "        total_area = combined_gdf.unary_union.area\n",
    "\n",
    "        # Calculate areas for each feature\n",
    "        water_area = water_gdf.area.sum() if not water_gdf.empty else 0\n",
    "        green_area = green_gdf.area.sum() if not green_gdf.empty else 0\n",
    "        building_area = buildings_gdf.area.sum() if not buildings_gdf.empty else 0\n",
    "\n",
    "        # Calculate percentages\n",
    "        water_percentage = (water_area / total_area) * 100 if total_area > 0 else 0\n",
    "        green_percentage = (green_area / total_area) * 100 if total_area > 0 else 0\n",
    "        building_percentage = (building_area / total_area) * 100 if total_area > 0 else 0\n",
    "\n",
    "        # Display percentage data\n",
    "        print(f\"{zone_name}:\")\n",
    "        print(f\"  Water Bodies Percentage: {water_percentage:.2f}%\")\n",
    "        print(f\"  Green Area Percentage: {green_percentage:.2f}%\")\n",
    "        print(f\"  Building Density Percentage: {building_percentage:.2f}%\")\n",
    "        print()\n",
    "\n",
    "    except Exception as e:\n",
    "        print(f\"Error analyzing {zone_name}: {e}\")\n",
    "\n",
    "# Run analysis for each zone\n",
    "for zone_name, place_query in zones.items():\n",
    "    analyze_zone(zone_name, place_query)\n"
   ]
  },
  {
   "cell_type": "markdown",
   "id": "8c48fd69-2534-4f3e-81e8-a9efe262f83c",
   "metadata": {},
   "source": [
    "# UHI INDEX"
   ]
  },
  {
   "cell_type": "code",
   "execution_count": 9,
   "id": "3634d4f4-d8fe-4347-927c-0247d3c80791",
   "metadata": {},
   "outputs": [
    {
     "name": "stdout",
     "output_type": "stream",
     "text": [
      "          Area  Current Temperature (°F)  Future Temperature (°F)\n",
      "0        Adyar                      83.7                   84.021\n",
      "1    AnnaNagar                      84.0                   84.355\n",
      "2   Tondiarpet                      83.2                   83.518\n",
      "3    Royapuram                      83.7                   84.135\n",
      "4  Kodambakkam                      84.3                   84.442\n"
     ]
    }
   ],
   "source": [
    "import pandas as pd\n",
    "temperature_predictions=pd.read_csv(\"temperature_predictions.csv\")\n",
    "print(temperature_predictions.head())"
   ]
  },
  {
   "cell_type": "code",
   "execution_count": 3,
   "id": "b1f15d14-4577-46db-b12b-735c9a7e1064",
   "metadata": {},
   "outputs": [
    {
     "name": "stdout",
     "output_type": "stream",
     "text": [
      "Zone: Adyar, UHI Index: -0.45\n",
      "Zone: Anna Nagar, UHI Index: 1.02\n",
      "Zone: Tondiarpet, UHI Index: 1.02\n",
      "Zone: Royapuram, UHI Index: 1.00\n",
      "Zone: Kodambakkam, UHI Index: 0.38\n",
      "Zone: Alandur, UHI Index: 0.31\n",
      "Zone: Perungudi, UHI Index: 0.04\n",
      "Zone: Valasaravakkam, UHI Index: -0.30\n",
      "Zone: Manali, UHI Index: 1.70\n",
      "Zone: Teynampet, UHI Index: 0.74\n",
      "Zone: Sholinganallur, UHI Index: -0.35\n",
      "Zone: Thiru. Vi. Ka. Nagar, UHI Index: 0.44\n",
      "Zone: Ambattur, UHI Index: -0.25\n",
      "Zone: Madhavaram, UHI Index: -0.15\n"
     ]
    }
   ],
   "source": [
    "import pandas as pd\n",
    "temperature_predictions=pd.read_csv(\"temperature_predictions.csv\")\n",
    "temp = pd.Series(temperature_predictions['Current Temperature (°F)'])\n",
    "future_temp=pd.Series(temperature_predictions[\"Future Temperature (°F)\"])\n",
    "\n",
    "# Sample data\n",
    "data = {\n",
    "    'zone': ['Adyar', 'Anna Nagar', 'Tondiarpet', 'Royapuram', 'Kodambakkam', 'Alandur', 'Perungudi', 'Valasaravakkam', 'Manali', 'Teynampet', 'Sholinganallur', 'Thiru. Vi. Ka. Nagar', 'Ambattur', 'Madhavaram'],\n",
    "    'Current Temperature': [i for i in temp],\n",
    "    'Future Temperature': [x for x in future_temp],\n",
    "    'Water Bodies Percentage': [23.40, 19.41, 19.17, 23.85, 35.83, 39.04, 48.71, 21.37, 32.75, 31.88, 63.03, 40.15, 64.67, 61.34],\n",
    "    'Green Area Percentage': [29.46, 0.82, 0.14, 0.28, 0.13, 1.08, 0.01, 23.34, 1.28, 0.02, 0.01, 0.45, 1.27, 1.55],\n",
    "    'Building Density Percentage': [47.42, 79.80, 80.76, 76.08, 64.09, 59.89, 51.35, 55.33, 66.00, 68.41, 37.27, 59.48, 34.12, 37.11]\n",
    "}\n",
    "\n",
    "# Create DataFrame\n",
    "df = pd.DataFrame(data)\n",
    "\n",
    "# Calculate temperature difference\n",
    "df['Temp Difference'] = df['Future Temperature'] - df['Current Temperature']\n",
    "\n",
    "# Normalize the factors (e.g., scaling between 0 and 1)\n",
    "df['Norm Water Bodies'] = df['Water Bodies Percentage'] / df['Water Bodies Percentage'].max()\n",
    "df['Norm Green Area'] = df['Green Area Percentage'] / df['Green Area Percentage'].max()\n",
    "df['Norm Building Density'] = df['Building Density Percentage'] / df['Building Density Percentage'].max()\n",
    "\n",
    "# Define weights for each factor\n",
    "weight_water_bodies = -1  # Higher percentage of water bodies may reduce UHI\n",
    "weight_green_area = -1    # Higher green area may reduce UHI\n",
    "weight_building_density = 1  # Higher building density may increase UHI\n",
    "\n",
    "# Calculate UHI Effect\n",
    "df['UHI Effect'] = df['Temp Difference'] + (weight_water_bodies * df['Norm Water Bodies']) + \\\n",
    "                   (weight_green_area * df['Norm Green Area']) + \\\n",
    "                   (weight_building_density * df['Norm Building Density'])\n",
    "\n",
    "# Display results\n",
    "for index, row in df.iterrows():\n",
    "    print(f\"Zone: {row['zone']}, UHI Index: {row['UHI Effect']:.2f}\")\n"
   ]
  },
  {
   "cell_type": "code",
   "execution_count": 4,
   "id": "70889f67-e641-43fc-9212-16cc346ad73e",
   "metadata": {},
   "outputs": [],
   "source": [
    "uhi_values_df = df[['zone', 'Water Bodies Percentage', 'Green Area Percentage', 'Building Density Percentage', 'UHI Effect']]\n",
    "uhi_values_df.to_csv('finaluhivalues.csv', index=False)"
   ]
  },
  {
   "cell_type": "code",
   "execution_count": 12,
   "id": "8a699242-3b61-4016-b3f0-b768c9d4fb94",
   "metadata": {},
   "outputs": [
    {
     "name": "stderr",
     "output_type": "stream",
     "text": [
      "C:\\Users\\Nafila Nazrin\\AppData\\Local\\Temp\\ipykernel_15196\\953579540.py:18: FutureWarning: \n",
      "\n",
      "Passing `palette` without assigning `hue` is deprecated and will be removed in v0.14.0. Assign the `x` variable to `hue` and set `legend=False` for the same effect.\n",
      "\n",
      "  sns.barplot(x='zone', y='UHI Index', data=df, palette='coolwarm')\n"
     ]
    },
    {
     "data": {
      "image/png": "[encoded data removed]",
      "text/plain": [
       "<Figure size 1200x800 with 1 Axes>"
      ]
     },
     "metadata": {},
     "output_type": "display_data"
    }
   ],
   "source": [
    "import pandas as pd\n",
    "import matplotlib.pyplot as plt\n",
    "import seaborn as sns\n",
    "\n",
    "# Sample data for 14 zones\n",
    "data = {\n",
    "    'zone': ['Adyar', 'Anna Nagar', 'Tondiarpet', 'Royapuram', 'Kodambakkam', 'Alandur', 'Perungudi', \n",
    "             'Valasaravakkam', 'Manali', 'Teynampet', 'Sholinganallur', 'Thiru. Vi. Ka. Nagar', \n",
    "             'Ambattur', 'Madhavaram'],\n",
    "    'UHI Index': [-0.45,1.02,1.02,1.00,0.38,0.36,0.04,-0.30,1.70,0.74,-0.35,0.44,-0.25,-0.15]\n",
    "}\n",
    "\n",
    "# Create DataFrame\n",
    "df = pd.DataFrame(data)\n",
    "\n",
    "# Plot\n",
    "plt.figure(figsize=(12, 8))\n",
    "sns.barplot(x='zone', y='UHI Index', data=df, palette='coolwarm')\n",
    "plt.xticks(rotation=90)\n",
    "plt.title('UHI Index for Different Zones')\n",
    "plt.xlabel('Zone')\n",
    "plt.ylabel('UHI Index')\n",
    "plt.show()\n"
   ]
  },
  {
   "cell_type": "code",
   "execution_count": null,
   "id": "fa5c6f55-fbc3-4054-8b4d-8aa1c180f288",
   "metadata": {},
   "outputs": [],
   "source": []
  },
  {
   "cell_type": "code",
   "execution_count": null,
   "id": "eb4fdd2e-04c5-4f5a-9a36-e8be134d9bbe",
   "metadata": {},
   "outputs": [],
   "source": []
  }
 ],
 "metadata": {
  "kernelspec": {
   "display_name": "Python 3 (ipykernel)",
   "language": "python",
   "name": "python3"
  },
  "language_info": {
   "codemirror_mode": {
    "name": "ipython",
    "version": 3
   },
   "file_extension": ".py",
   "mimetype": "text/x-python",
   "name": "python",
   "nbconvert_exporter": "python",
   "pygments_lexer": "ipython3",
   "version": "3.12.3"
  }
 },
 "nbformat": 4,
 "nbformat_minor": 5
}
